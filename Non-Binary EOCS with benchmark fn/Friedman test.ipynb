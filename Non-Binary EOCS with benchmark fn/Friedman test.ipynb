{
 "cells": [
  {
   "cell_type": "code",
   "execution_count": 1,
   "metadata": {},
   "outputs": [],
   "source": [
    "group1 = [4, 6, 3, 4, 3, 2, 2, 7, 6, 5]\n",
    "group2 = [5, 6, 8, 7, 7, 8, 4, 6, 4, 5]\n",
    "group3 = [2, 4, 4, 3, 2, 2, 1, 4, 3, 2]"
   ]
  },
  {
   "cell_type": "code",
   "execution_count": 3,
   "metadata": {},
   "outputs": [
    {
     "data": {
      "text/plain": [
       "FriedmanchisquareResult(statistic=13.351351351351344, pvalue=0.0012612201221243594)"
      ]
     },
     "execution_count": 3,
     "metadata": {},
     "output_type": "execute_result"
    }
   ],
   "source": [
    "from scipy import stats\n",
    "\n",
    "#perform Friedman Test\n",
    "stats.friedmanchisquare(group1, group2, group3)"
   ]
  },
  {
   "cell_type": "code",
   "execution_count": null,
   "metadata": {},
   "outputs": [],
   "source": [
    "# The null hypothesis (H0): The mean for each population is equal.\n",
    "\n",
    "# The alternative hypothesis: (Ha): At least one population mean is different from the rest.\n",
    "\n",
    "# In this example, the test statistic is 13.3514 and the corresponding p-value is p = 0.00126. Since this p-value is less than 0.05, we can reject the null hypothesis that the mean response time is the same for all three drugs.\n",
    "\n",
    "# In other words, we have sufficient evidence to conclude that the type of drug used leads to statistically significant differences in response time"
   ]
  }
 ],
 "metadata": {
  "kernelspec": {
   "display_name": "Python 3",
   "language": "python",
   "name": "python3"
  },
  "language_info": {
   "codemirror_mode": {
    "name": "ipython",
    "version": 3
   },
   "file_extension": ".py",
   "mimetype": "text/x-python",
   "name": "python",
   "nbconvert_exporter": "python",
   "pygments_lexer": "ipython3",
   "version": "3.8.5"
  }
 },
 "nbformat": 4,
 "nbformat_minor": 4
}
